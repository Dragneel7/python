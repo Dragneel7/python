{
 "cells": [
  {
   "cell_type": "code",
   "execution_count": 1,
   "metadata": {
    "collapsed": false
   },
   "outputs": [
    {
     "name": "stdout",
     "output_type": "stream",
     "text": [
      "Hello World!\n",
      "Hello Again\n",
      "I like typing this.\n",
      "This is fun.\n",
      "Yay! Printing.\n",
      "I'd much rather you 'not'.\n",
      "I \"said\" do not touch this.\n"
     ]
    }
   ],
   "source": [
    "print (\"Hello World!\")\n",
    "print (\"Hello Again\")\n",
    "print (\"I like typing this.\")\n",
    "print (\"This is fun.\")\n",
    "print (\"Yay! Printing.\")\n",
    "print (\"I'd much rather you 'not'.\")\n",
    "print ('I \"said\" do not touch this.')"
   ]
  },
  {
   "cell_type": "code",
   "execution_count": 2,
   "metadata": {
    "collapsed": false
   },
   "outputs": [
    {
     "name": "stdout",
     "output_type": "stream",
     "text": [
      "I could have liked this.\n",
      "this wil run\n"
     ]
    }
   ],
   "source": [
    "#A comment , so you can read yur program later.\n",
    "#Anytj=hing after the # is ignored by python.\n",
    "print (\"I could have liked this.\")# and the comment after is ignored\n",
    "#you can also use comment  to \"disable\" a peice of code\n",
    "#print (\"this wont run\")\n",
    "print (\"this wil run\")\n"
   ]
  },
  {
   "cell_type": "code",
   "execution_count": 3,
   "metadata": {
    "collapsed": false
   },
   "outputs": [
    {
     "name": "stdout",
     "output_type": "stream",
     "text": [
      "I could have liked this.\n",
      "this wil run\n"
     ]
    }
   ],
   "source": [
    "#A comment , so you can read yur program later.\n",
    "#Anytj=hing after the # is ignored by python.\n",
    "print (\"I could have liked this.\")# and the comment after is ignored\n",
    "#you can also use comment  to \"disable\" a peice of code\n",
    "#print (\"this wont run\")\n",
    "print (\"this wil run\")\n"
   ]
  },
  {
   "cell_type": "code",
   "execution_count": 4,
   "metadata": {
    "collapsed": false
   },
   "outputs": [
    {
     "name": "stdout",
     "output_type": "stream",
     "text": [
      "There are 100 cars available.\n",
      "There are only 30 drivers available.\n",
      "There will be 70 empty cars today.\n",
      "We can transport 120.0 people today.\n",
      "We have 90 to carpool today.\n",
      "We need to put about 3.0 in each car.\n"
     ]
    }
   ],
   "source": [
    "cars = 100\n",
    "space_in_a_car = 4.0\n",
    "drivers = 30\n",
    "passengers = 90\n",
    "cars_not_driven = cars - drivers\n",
    "cars_driven = drivers\n",
    "carpool_capacity = cars_driven * space_in_a_car\n",
    "average_passengers_per_car = passengers / cars_driven\n",
    "\n",
    "\n",
    "print (\"There are\", cars, \"cars available.\")\n",
    "print (\"There are only\", drivers, \"drivers available.\")\n",
    "print (\"There will be\", cars_not_driven, \"empty cars today.\")\n",
    "print (\"We can transport\", carpool_capacity, \"people today.\")\n",
    "print (\"We have\", passengers, \"to carpool today.\")\n",
    "print (\"We need to put about\", average_passengers_per_car, \"in each car.\")"
   ]
  },
  {
   "cell_type": "code",
   "execution_count": 5,
   "metadata": {
    "collapsed": false
   },
   "outputs": [
    {
     "name": "stdout",
     "output_type": "stream",
     "text": [
      "Let's talk about 'Zed A. Shaw'.\n",
      "He's 74 inches tall.\n",
      "He's 180 pounds heavy.\n",
      "Actually that's not too heavy.\n",
      "He's got Blue eyes and Brown hair.\n",
      "His teeth are usually White depending on the coffee.\n",
      "If I add 35, 74, and 180 I get 289.\n"
     ]
    }
   ],
   "source": [
    "my_name = 'Zed A. Shaw'\n",
    "my_age = 35 # not a lie\n",
    "my_height = 74 # inches\n",
    "my_weight = 180 # lbs\n",
    "my_eyes = 'Blue'\n",
    "my_teeth = 'White'\n",
    "my_hair = 'Brown'\n",
    "\n",
    "print (\"Let's talk about %r.\" % my_name)\n",
    "print (\"He's %d inches tall.\" % my_height)\n",
    "print (\"He's %d pounds heavy.\" % my_weight)\n",
    "print (\"Actually that's not too heavy.\")\n",
    "print (\"He's got %s eyes and %s hair.\" % (my_eyes, my_hair))\n",
    "print (\"His teeth are usually %s depending on the coffee.\" % my_teeth)\n",
    "\n",
    "# this line is tricky, try to get it exactly right\n",
    "print (\"If I add %d, %d, and %d I get %d.\" % (\n",
    "    my_age, my_height, my_weight, my_age + my_height + my_weight))"
   ]
  },
  {
   "cell_type": "code",
   "execution_count": 6,
   "metadata": {
    "collapsed": false
   },
   "outputs": [
    {
     "name": "stdout",
     "output_type": "stream",
     "text": [
      "There are 10 types of people.\n",
      "Those who know binary and those who don't.\n",
      "I said: 'There are 10 types of people.'.\n",
      "I also said: 'Those who know binary and those who don't.'.\n",
      "Isn't that joke so funny?! False\n",
      "This is the left side of...a string with a right side.\n"
     ]
    }
   ],
   "source": [
    "x = (\"There are %d types of people.\" % 10)\n",
    "binary = \"binary\"\n",
    "do_not = \"don't\"\n",
    "y = (\"Those who know %s and those who %s.\" % (binary, do_not))\n",
    "\n",
    "print (x)\n",
    "print (y)\n",
    "\n",
    "print (\"I said: %r.\" % x)\n",
    "print (\"I also said: '%s'.\" % y)\n",
    "\n",
    "hilarious = False\n",
    "joke_evaluation = \"Isn't that joke so funny?! %r\"\n",
    "\n",
    "print (joke_evaluation % hilarious)\n",
    "\n",
    "w = \"This is the left side of...\"\n",
    "e = \"a string with a right side.\"\n",
    "\n",
    "print (w + e)"
   ]
  },
  {
   "cell_type": "code",
   "execution_count": 7,
   "metadata": {
    "collapsed": false
   },
   "outputs": [
    {
     "name": "stdout",
     "output_type": "stream",
     "text": [
      "Mary had a little lamb.\n",
      "Its fleece was white snow as hello.\n",
      "And everywhere that Mary went.\n",
      "..........\n",
      "Cheese\n",
      "Burger\n"
     ]
    }
   ],
   "source": [
    "print (\"Mary had a little lamb.\")\n",
    "print (\"Its fleece was white %s as %s.\" % ('snow','hello'))\n",
    "print (\"And everywhere that Mary went.\")\n",
    "print (\".\" * 10)  # what'd that do?\n",
    "\n",
    "end1 = \"C\"\n",
    "end2 = \"h\"\n",
    "end3 = \"e\"\n",
    "end4 = \"e\"\n",
    "end5 = \"s\"\n",
    "end6 = \"e\"\n",
    "end7 = \"B\"\n",
    "end8 = \"u\"\n",
    "end9 = \"r\"\n",
    "end10 = \"g\"\n",
    "end11 = \"e\"\n",
    "end12 = \"r\"\n",
    "\n",
    "# watch that comma at the end.  try removing it to see what happens\n",
    "print (end1 + end2 + end3 + end4 + end5 + end6),\n",
    "print (end7 + end8 + end9 + end10 + end11 + end12)"
   ]
  },
  {
   "cell_type": "code",
   "execution_count": 8,
   "metadata": {
    "collapsed": false
   },
   "outputs": [
    {
     "name": "stdout",
     "output_type": "stream",
     "text": [
      "1 2 3 4\n",
      "'one' 'two' 'three' 'four'\n",
      "True False False True\n",
      "'%r %r %r %r' '%r %r %r %r' '%r %r %r %r' '%r %r %r %r'\n",
      "'I had this thing.' 'That you could type up right.' \"But it didn't sing.\" 'So I said goodnight.'\n"
     ]
    }
   ],
   "source": [
    "formatter = \"%r %r %r %r\"\n",
    "\n",
    "print (formatter % (1, 2, 3, 4))\n",
    "print (formatter % (\"one\", \"two\", \"three\", \"four\"))\n",
    "print (formatter % (True, False, False, True))\n",
    "print (formatter % (formatter, formatter, formatter, formatter))\n",
    "print (formatter % (\n",
    "    \"I had this thing.\",\n",
    "    \"That you could type up right.\",\n",
    "    \"But it didn't sing.\",\n",
    "    \"So I said goodnight.\"\n",
    "))"
   ]
  },
  {
   "cell_type": "code",
   "execution_count": 9,
   "metadata": {
    "collapsed": false
   },
   "outputs": [
    {
     "name": "stdout",
     "output_type": "stream",
     "text": [
      "Here are the days:  Mon Tue Wed Thu Fri Sat Sun\n",
      "Here are the months:  \n",
      "Jan\n",
      "Feb\n",
      "Mar\n",
      "Apr\n",
      "May\n",
      "Jun\n",
      "Jul\n",
      "Aug\n",
      "\n",
      "There's something going on here.\n",
      "With the three double-quotes.\n",
      "We'll be able to type as much as we like.\n",
      "Even 4 lines if we want, or 5, or 6.\n",
      "\n"
     ]
    }
   ],
   "source": [
    "# Here's some new strange stuff, remember type it exactly.\n",
    "\n",
    "days = \"Mon Tue Wed Thu Fri Sat Sun\"\n",
    "months = \"\\nJan\\nFeb\\nMar\\nApr\\nMay\\nJun\\nJul\\nAug\"\n",
    "\n",
    "print (\"Here are the days: \", days)\n",
    "print (\"Here are the months: \", months)\n",
    "\n",
    "print (\"\"\"\n",
    "There's something going on here.\n",
    "With the three double-quotes.\n",
    "We'll be able to type as much as we like.\n",
    "Even 4 lines if we want, or 5, or 6.\n",
    "\"\"\")"
   ]
  },
  {
   "cell_type": "code",
   "execution_count": 10,
   "metadata": {
    "collapsed": false
   },
   "outputs": [
    {
     "name": "stdout",
     "output_type": "stream",
     "text": [
      "\tI'm tabbed in.\n",
      "I'm split\n",
      "on a line.\n",
      "I'm \u0007  cat.\n",
      "\n",
      "I'll do a list:\n",
      "\t* Cat food\n",
      "\t* Fishies\n",
      "\t* Catnip\n",
      "\t* Grass\n",
      "\n"
     ]
    }
   ],
   "source": [
    "tabby_cat = \"\\tI'm tabbed in.\"\n",
    "persian_cat = \"I'm split\\non a line.\"\n",
    "backslash_cat = \"I'm \\a  cat.\"\n",
    "\n",
    "fat_cat = \"\"\"\n",
    "I'll do a list:\n",
    "\\t* Cat food\n",
    "\\t* Fishies\n",
    "\\t* Catnip\\n\\t* Grass\n",
    "\"\"\"\n",
    "\n",
    "print (tabby_cat)\n",
    "print (persian_cat)\n",
    "print (backslash_cat)\n",
    "print (fat_cat)"
   ]
  },
  {
   "cell_type": "code",
   "execution_count": 11,
   "metadata": {
    "collapsed": false
   },
   "outputs": [
    {
     "name": "stdout",
     "output_type": "stream",
     "text": [
      "How old are you?\n",
      "12\n",
      "How tall are you?\n",
      "12\n",
      "How much do you weigh?\n",
      "12\n",
      "So, you're 12 old, 12 tall and 12 heavy.\n"
     ]
    }
   ],
   "source": [
    "print (\"How old are you?\"), \n",
    "age = input()\n",
    "print (\"How tall are you?\"), \n",
    "height = input()\n",
    "print (\"How much do you weigh?\"), \n",
    "weight =input()\n",
    "\n",
    "print (\"So, you're %s old, %s tall and %s heavy.\" % (\n",
    "    age, height, weight))"
   ]
  },
  {
   "cell_type": "code",
   "execution_count": 12,
   "metadata": {
    "collapsed": false
   },
   "outputs": [
    {
     "name": "stdout",
     "output_type": "stream",
     "text": [
      "How old are you? 12\n",
      "How tall are you? 12\n",
      "How much do you weigh? 12\n",
      "So, you're 12 old, '12' tall and '12' heavy.\n"
     ]
    }
   ],
   "source": [
    "age = int(input(\"How old are you? \"))\n",
    "height = input(\"How tall are you? \")\n",
    "weight = input(\"How much do you weigh? \")\n",
    "\n",
    "print (\"So, you're %d old, %r tall and %r heavy.\" % (\n",
    "    age, height, weight))"
   ]
  },
  {
   "cell_type": "code",
   "execution_count": 13,
   "metadata": {
    "collapsed": false
   },
   "outputs": [
    {
     "name": "stdout",
     "output_type": "stream",
     "text": [
      "The script is called: ['/usr/local/lib/python3.4/dist-packages/ipykernel/__main__.py', '-f', '/run/user/1000/jupyter/kernel-feaaf900-5490-4186-bab9-58a5a6aebe11.json']\n",
      "Your first variable is: 1\n",
      "Your second variable is: 1\n",
      "Your third variable is: 34\n"
     ]
    }
   ],
   "source": [
    "from sys import argv\n",
    "\n",
    "script,first,second,third = argv,'1','1',34\n",
    "\n",
    "print (\"The script is called:\", script)\n",
    "print (\"Your first variable is:\", first)\n",
    "print (\"Your second variable is:\", second)\n",
    "print (\"Your third variable is:\", third)"
   ]
  },
  {
   "cell_type": "code",
   "execution_count": 14,
   "metadata": {
    "collapsed": false
   },
   "outputs": [
    {
     "name": "stdout",
     "output_type": "stream",
     "text": [
      "Hi Surya, I'm the ['/usr/local/lib/python3.4/dist-packages/ipykernel/__main__.py', '-f', '/run/user/1000/jupyter/kernel-feaaf900-5490-4186-bab9-58a5a6aebe11.json'] script.\n",
      "I'd like to ask you a few questions.\n",
      "Do you like me Surya?\n",
      "> 12\n",
      "Where do you live Surya?\n",
      "> 12\n",
      "What kind of computer do you have?\n",
      "> 12\n",
      "\n",
      "Alright, so you said '12' about liking me.\n",
      "You live in '12'.  Not sure where that is.\n",
      "And you have a '12' computer.  Nice.\n",
      "\n"
     ]
    }
   ],
   "source": [
    "from sys import argv\n",
    "\n",
    "script, user_name = argv,'Surya'\n",
    "prompt = '> '\n",
    "\n",
    "print (\"Hi %s, I'm the %s script.\" % (user_name, script))\n",
    "print (\"I'd like to ask you a few questions.\")\n",
    "print (\"Do you like me %s?\" % user_name)\n",
    "likes = input(prompt)\n",
    "\n",
    "print (\"Where do you live %s?\" % user_name)\n",
    "lives = input(prompt)\n",
    "\n",
    "print (\"What kind of computer do you have?\")\n",
    "computer = input(prompt)\n",
    "\n",
    "print (\"\"\"\n",
    "Alright, so you said %r about liking me.\n",
    "You live in %r.  Not sure where that is.\n",
    "And you have a %r computer.  Nice.\n",
    "\"\"\" % (likes, lives, computer))"
   ]
  },
  {
   "cell_type": "code",
   "execution_count": 22,
   "metadata": {
    "collapsed": false
   },
   "outputs": [
    {
     "name": "stdout",
     "output_type": "stream",
     "text": [
      "Here's your file 'try1.txt':\n",
      "hello how are you?\n",
      "Type the filename again:\n",
      "> try1.txt\n",
      "hello how are you?\n"
     ]
    }
   ],
   "source": [
    "from sys import argv\n",
    "\n",
    "script, filename = argv,'try1.txt'\n",
    "\n",
    "txt = open(filename)\n",
    "\n",
    "print (\"Here's your file %r:\" % filename)\n",
    "print (txt.read())\n",
    "\n",
    "print (\"Type the filename again:\")\n",
    "file_again = input(\"> \")\n",
    "\n",
    "txt_again = open(file_again)\n",
    "\n",
    "print (txt_again.read())"
   ]
  },
  {
   "cell_type": "code",
   "execution_count": null,
   "metadata": {
    "collapsed": true
   },
   "outputs": [],
   "source": []
  }
 ],
 "metadata": {
  "kernelspec": {
   "display_name": "Python 3",
   "language": "python",
   "name": "python3"
  },
  "language_info": {
   "codemirror_mode": {
    "name": "ipython",
    "version": 3
   },
   "file_extension": ".py",
   "mimetype": "text/x-python",
   "name": "python",
   "nbconvert_exporter": "python",
   "pygments_lexer": "ipython3",
   "version": "3.4.3"
  }
 },
 "nbformat": 4,
 "nbformat_minor": 2
}
